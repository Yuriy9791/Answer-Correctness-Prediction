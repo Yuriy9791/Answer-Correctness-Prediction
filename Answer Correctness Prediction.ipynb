{
 "cells": [
  {
   "cell_type": "code",
   "execution_count": 1,
   "id": "ae6ddade",
   "metadata": {},
   "outputs": [],
   "source": [
    "import pandas as pd\n",
    "from tqdm import tqdm_notebook\n",
    "import seaborn as sn\n",
    "import matplotlib.pyplot as plt"
   ]
  },
  {
   "cell_type": "code",
   "execution_count": 2,
   "id": "98c17f43",
   "metadata": {},
   "outputs": [],
   "source": [
    "filename = 'train.csv'\n",
    "filename_q = 'questions.csv'"
   ]
  },
  {
   "cell_type": "code",
   "execution_count": 3,
   "id": "cf2f6c8e",
   "metadata": {},
   "outputs": [],
   "source": [
    "df = pd.read_csv(filename)"
   ]
  },
  {
   "cell_type": "code",
   "execution_count": 4,
   "id": "927f3dfb",
   "metadata": {},
   "outputs": [
    {
     "data": {
      "text/html": [
       "<div>\n",
       "<style scoped>\n",
       "    .dataframe tbody tr th:only-of-type {\n",
       "        vertical-align: middle;\n",
       "    }\n",
       "\n",
       "    .dataframe tbody tr th {\n",
       "        vertical-align: top;\n",
       "    }\n",
       "\n",
       "    .dataframe thead th {\n",
       "        text-align: right;\n",
       "    }\n",
       "</style>\n",
       "<table border=\"1\" class=\"dataframe\">\n",
       "  <thead>\n",
       "    <tr style=\"text-align: right;\">\n",
       "      <th></th>\n",
       "      <th>row_id</th>\n",
       "      <th>timestamp</th>\n",
       "      <th>user_id</th>\n",
       "      <th>content_id</th>\n",
       "      <th>content_type_id</th>\n",
       "      <th>task_container_id</th>\n",
       "      <th>user_answer</th>\n",
       "      <th>answered_correctly</th>\n",
       "      <th>prior_question_elapsed_time</th>\n",
       "      <th>prior_question_had_explanation</th>\n",
       "    </tr>\n",
       "  </thead>\n",
       "  <tbody>\n",
       "    <tr>\n",
       "      <th>0</th>\n",
       "      <td>0</td>\n",
       "      <td>0</td>\n",
       "      <td>115</td>\n",
       "      <td>5692</td>\n",
       "      <td>0</td>\n",
       "      <td>1</td>\n",
       "      <td>3</td>\n",
       "      <td>1</td>\n",
       "      <td>NaN</td>\n",
       "      <td>NaN</td>\n",
       "    </tr>\n",
       "    <tr>\n",
       "      <th>1</th>\n",
       "      <td>1</td>\n",
       "      <td>56943</td>\n",
       "      <td>115</td>\n",
       "      <td>5716</td>\n",
       "      <td>0</td>\n",
       "      <td>2</td>\n",
       "      <td>2</td>\n",
       "      <td>1</td>\n",
       "      <td>37000.0</td>\n",
       "      <td>False</td>\n",
       "    </tr>\n",
       "    <tr>\n",
       "      <th>2</th>\n",
       "      <td>2</td>\n",
       "      <td>118363</td>\n",
       "      <td>115</td>\n",
       "      <td>128</td>\n",
       "      <td>0</td>\n",
       "      <td>0</td>\n",
       "      <td>0</td>\n",
       "      <td>1</td>\n",
       "      <td>55000.0</td>\n",
       "      <td>False</td>\n",
       "    </tr>\n",
       "    <tr>\n",
       "      <th>3</th>\n",
       "      <td>3</td>\n",
       "      <td>131167</td>\n",
       "      <td>115</td>\n",
       "      <td>7860</td>\n",
       "      <td>0</td>\n",
       "      <td>3</td>\n",
       "      <td>0</td>\n",
       "      <td>1</td>\n",
       "      <td>19000.0</td>\n",
       "      <td>False</td>\n",
       "    </tr>\n",
       "    <tr>\n",
       "      <th>4</th>\n",
       "      <td>4</td>\n",
       "      <td>137965</td>\n",
       "      <td>115</td>\n",
       "      <td>7922</td>\n",
       "      <td>0</td>\n",
       "      <td>4</td>\n",
       "      <td>1</td>\n",
       "      <td>1</td>\n",
       "      <td>11000.0</td>\n",
       "      <td>False</td>\n",
       "    </tr>\n",
       "  </tbody>\n",
       "</table>\n",
       "</div>"
      ],
      "text/plain": [
       "   row_id  timestamp  user_id  content_id  content_type_id  task_container_id  \\\n",
       "0       0          0      115        5692                0                  1   \n",
       "1       1      56943      115        5716                0                  2   \n",
       "2       2     118363      115         128                0                  0   \n",
       "3       3     131167      115        7860                0                  3   \n",
       "4       4     137965      115        7922                0                  4   \n",
       "\n",
       "   user_answer  answered_correctly  prior_question_elapsed_time  \\\n",
       "0            3                   1                          NaN   \n",
       "1            2                   1                      37000.0   \n",
       "2            0                   1                      55000.0   \n",
       "3            0                   1                      19000.0   \n",
       "4            1                   1                      11000.0   \n",
       "\n",
       "  prior_question_had_explanation  \n",
       "0                            NaN  \n",
       "1                          False  \n",
       "2                          False  \n",
       "3                          False  \n",
       "4                          False  "
      ]
     },
     "execution_count": 4,
     "metadata": {},
     "output_type": "execute_result"
    }
   ],
   "source": [
    "df.head()"
   ]
  },
  {
   "cell_type": "code",
   "execution_count": 5,
   "id": "25bfeed6",
   "metadata": {},
   "outputs": [
    {
     "name": "stdout",
     "output_type": "stream",
     "text": [
      "<class 'pandas.core.frame.DataFrame'>\n",
      "RangeIndex: 101230332 entries, 0 to 101230331\n",
      "Data columns (total 10 columns):\n",
      " #   Column                          Dtype  \n",
      "---  ------                          -----  \n",
      " 0   row_id                          int64  \n",
      " 1   timestamp                       int64  \n",
      " 2   user_id                         int64  \n",
      " 3   content_id                      int64  \n",
      " 4   content_type_id                 int64  \n",
      " 5   task_container_id               int64  \n",
      " 6   user_answer                     int64  \n",
      " 7   answered_correctly              int64  \n",
      " 8   prior_question_elapsed_time     float64\n",
      " 9   prior_question_had_explanation  object \n",
      "dtypes: float64(1), int64(8), object(1)\n",
      "memory usage: 7.5+ GB\n"
     ]
    }
   ],
   "source": [
    "df.info()"
   ]
  },
  {
   "cell_type": "code",
   "execution_count": 6,
   "id": "a8d22821",
   "metadata": {},
   "outputs": [
    {
     "data": {
      "image/png": "[encoded data removed]",
      "text/plain": [
       "<Figure size 432x288 with 2 Axes>"
      ]
     },
     "metadata": {
      "needs_background": "light"
     },
     "output_type": "display_data"
    }
   ],
   "source": [
    "corrMatrix = df.corr()\n",
    "sn.heatmap(corrMatrix, annot=True)\n",
    "plt.show()"
   ]
  },
  {
   "cell_type": "code",
   "execution_count": 7,
   "id": "bf67c1dc",
   "metadata": {},
   "outputs": [
    {
     "data": {
      "text/plain": [
       "row_id                        -0.000303\n",
       "timestamp                      0.025452\n",
       "user_id                       -0.000307\n",
       "content_id                    -0.196960\n",
       "content_type_id               -0.436912\n",
       "task_container_id              0.061129\n",
       "user_answer                    0.126471\n",
       "answered_correctly             1.000000\n",
       "prior_question_elapsed_time   -0.007900\n",
       "Name: answered_correctly, dtype: float64"
      ]
     },
     "execution_count": 7,
     "metadata": {},
     "output_type": "execute_result"
    }
   ],
   "source": [
    "# Можно отметить content_type_id  по их значению корреляции с переменной user_answer\n",
    "corrMatrix['answered_correctly'] "
   ]
  },
  {
   "cell_type": "markdown",
   "id": "0bd6e863",
   "metadata": {},
   "source": [
    "#### "
   ]
  },
  {
   "cell_type": "code",
   "execution_count": 8,
   "id": "ab1c0c33",
   "metadata": {},
   "outputs": [
    {
     "data": {
      "text/html": [
       "<div>\n",
       "<style scoped>\n",
       "    .dataframe tbody tr th:only-of-type {\n",
       "        vertical-align: middle;\n",
       "    }\n",
       "\n",
       "    .dataframe tbody tr th {\n",
       "        vertical-align: top;\n",
       "    }\n",
       "\n",
       "    .dataframe thead th {\n",
       "        text-align: right;\n",
       "    }\n",
       "</style>\n",
       "<table border=\"1\" class=\"dataframe\">\n",
       "  <thead>\n",
       "    <tr style=\"text-align: right;\">\n",
       "      <th></th>\n",
       "      <th>question_id</th>\n",
       "      <th>bundle_id</th>\n",
       "      <th>correct_answer</th>\n",
       "      <th>part</th>\n",
       "      <th>tags</th>\n",
       "    </tr>\n",
       "  </thead>\n",
       "  <tbody>\n",
       "    <tr>\n",
       "      <th>0</th>\n",
       "      <td>0</td>\n",
       "      <td>0</td>\n",
       "      <td>0</td>\n",
       "      <td>1</td>\n",
       "      <td>51 131 162 38</td>\n",
       "    </tr>\n",
       "    <tr>\n",
       "      <th>1</th>\n",
       "      <td>1</td>\n",
       "      <td>1</td>\n",
       "      <td>1</td>\n",
       "      <td>1</td>\n",
       "      <td>131 36 81</td>\n",
       "    </tr>\n",
       "  </tbody>\n",
       "</table>\n",
       "</div>"
      ],
      "text/plain": [
       "   question_id  bundle_id  correct_answer  part           tags\n",
       "0            0          0               0     1  51 131 162 38\n",
       "1            1          1               1     1      131 36 81"
      ]
     },
     "execution_count": 8,
     "metadata": {},
     "output_type": "execute_result"
    }
   ],
   "source": [
    "dq = pd.read_csv(filename_q)\n",
    "dq.head(2)"
   ]
  },
  {
   "cell_type": "code",
   "execution_count": 9,
   "id": "b4e28b8c",
   "metadata": {},
   "outputs": [
    {
     "name": "stdout",
     "output_type": "stream",
     "text": [
      "<class 'pandas.core.frame.DataFrame'>\n",
      "RangeIndex: 13523 entries, 0 to 13522\n",
      "Data columns (total 5 columns):\n",
      " #   Column          Non-Null Count  Dtype \n",
      "---  ------          --------------  ----- \n",
      " 0   question_id     13523 non-null  int64 \n",
      " 1   bundle_id       13523 non-null  int64 \n",
      " 2   correct_answer  13523 non-null  int64 \n",
      " 3   part            13523 non-null  int64 \n",
      " 4   tags            13522 non-null  object\n",
      "dtypes: int64(4), object(1)\n",
      "memory usage: 528.4+ KB\n"
     ]
    }
   ],
   "source": [
    "dq.info()"
   ]
  },
  {
   "cell_type": "markdown",
   "id": "31a281e7",
   "metadata": {},
   "source": [
    "#### Feature eng."
   ]
  },
  {
   "cell_type": "code",
   "execution_count": 10,
   "id": "5af181f0",
   "metadata": {},
   "outputs": [],
   "source": [
    "df = df.dropna()"
   ]
  },
  {
   "cell_type": "code",
   "execution_count": 11,
   "id": "4c474d7c",
   "metadata": {},
   "outputs": [
    {
     "data": {
      "text/html": [
       "<div>\n",
       "<style scoped>\n",
       "    .dataframe tbody tr th:only-of-type {\n",
       "        vertical-align: middle;\n",
       "    }\n",
       "\n",
       "    .dataframe tbody tr th {\n",
       "        vertical-align: top;\n",
       "    }\n",
       "\n",
       "    .dataframe thead th {\n",
       "        text-align: right;\n",
       "    }\n",
       "</style>\n",
       "<table border=\"1\" class=\"dataframe\">\n",
       "  <thead>\n",
       "    <tr style=\"text-align: right;\">\n",
       "      <th></th>\n",
       "      <th>user_id</th>\n",
       "      <th>user_sum</th>\n",
       "      <th>user_mean</th>\n",
       "    </tr>\n",
       "  </thead>\n",
       "  <tbody>\n",
       "    <tr>\n",
       "      <th>0</th>\n",
       "      <td>115</td>\n",
       "      <td>31</td>\n",
       "      <td>0.688889</td>\n",
       "    </tr>\n",
       "    <tr>\n",
       "      <th>1</th>\n",
       "      <td>124</td>\n",
       "      <td>6</td>\n",
       "      <td>0.206897</td>\n",
       "    </tr>\n",
       "    <tr>\n",
       "      <th>2</th>\n",
       "      <td>2746</td>\n",
       "      <td>11</td>\n",
       "      <td>0.611111</td>\n",
       "    </tr>\n",
       "    <tr>\n",
       "      <th>3</th>\n",
       "      <td>5382</td>\n",
       "      <td>83</td>\n",
       "      <td>0.669355</td>\n",
       "    </tr>\n",
       "    <tr>\n",
       "      <th>4</th>\n",
       "      <td>8623</td>\n",
       "      <td>69</td>\n",
       "      <td>0.638889</td>\n",
       "    </tr>\n",
       "    <tr>\n",
       "      <th>...</th>\n",
       "      <td>...</td>\n",
       "      <td>...</td>\n",
       "      <td>...</td>\n",
       "    </tr>\n",
       "    <tr>\n",
       "      <th>393564</th>\n",
       "      <td>2147470770</td>\n",
       "      <td>172</td>\n",
       "      <td>0.764444</td>\n",
       "    </tr>\n",
       "    <tr>\n",
       "      <th>393565</th>\n",
       "      <td>2147470777</td>\n",
       "      <td>520</td>\n",
       "      <td>0.692410</td>\n",
       "    </tr>\n",
       "    <tr>\n",
       "      <th>393566</th>\n",
       "      <td>2147481750</td>\n",
       "      <td>38</td>\n",
       "      <td>0.775510</td>\n",
       "    </tr>\n",
       "    <tr>\n",
       "      <th>393567</th>\n",
       "      <td>2147482216</td>\n",
       "      <td>177</td>\n",
       "      <td>0.645985</td>\n",
       "    </tr>\n",
       "    <tr>\n",
       "      <th>393568</th>\n",
       "      <td>2147482888</td>\n",
       "      <td>14</td>\n",
       "      <td>0.538462</td>\n",
       "    </tr>\n",
       "  </tbody>\n",
       "</table>\n",
       "<p>393569 rows × 3 columns</p>\n",
       "</div>"
      ],
      "text/plain": [
       "           user_id  user_sum  user_mean\n",
       "0              115        31   0.688889\n",
       "1              124         6   0.206897\n",
       "2             2746        11   0.611111\n",
       "3             5382        83   0.669355\n",
       "4             8623        69   0.638889\n",
       "...            ...       ...        ...\n",
       "393564  2147470770       172   0.764444\n",
       "393565  2147470777       520   0.692410\n",
       "393566  2147481750        38   0.775510\n",
       "393567  2147482216       177   0.645985\n",
       "393568  2147482888        14   0.538462\n",
       "\n",
       "[393569 rows x 3 columns]"
      ]
     },
     "execution_count": 11,
     "metadata": {},
     "output_type": "execute_result"
    }
   ],
   "source": [
    "# Создаем новые фичи - количество отвеченных вопросов и правильное количество как среднее.\n",
    "user_correct = df.groupby('user_id')['answered_correctly'].agg(user_sum = 'sum', \n",
    "                user_mean = 'mean').reset_index()\n",
    "user_correct"
   ]
  },
  {
   "cell_type": "code",
   "execution_count": 12,
   "id": "e763bba6",
   "metadata": {},
   "outputs": [
    {
     "data": {
      "text/html": [
       "<div>\n",
       "<style scoped>\n",
       "    .dataframe tbody tr th:only-of-type {\n",
       "        vertical-align: middle;\n",
       "    }\n",
       "\n",
       "    .dataframe tbody tr th {\n",
       "        vertical-align: top;\n",
       "    }\n",
       "\n",
       "    .dataframe thead th {\n",
       "        text-align: right;\n",
       "    }\n",
       "</style>\n",
       "<table border=\"1\" class=\"dataframe\">\n",
       "  <thead>\n",
       "    <tr style=\"text-align: right;\">\n",
       "      <th></th>\n",
       "      <th>user_time_total</th>\n",
       "    </tr>\n",
       "    <tr>\n",
       "      <th>user_id</th>\n",
       "      <th></th>\n",
       "    </tr>\n",
       "  </thead>\n",
       "  <tbody>\n",
       "    <tr>\n",
       "      <th>115</th>\n",
       "      <td>668090043</td>\n",
       "    </tr>\n",
       "    <tr>\n",
       "      <th>124</th>\n",
       "      <td>571323</td>\n",
       "    </tr>\n",
       "    <tr>\n",
       "      <th>2746</th>\n",
       "      <td>835457</td>\n",
       "    </tr>\n",
       "    <tr>\n",
       "      <th>5382</th>\n",
       "      <td>2101551456</td>\n",
       "    </tr>\n",
       "    <tr>\n",
       "      <th>8623</th>\n",
       "      <td>862338736</td>\n",
       "    </tr>\n",
       "    <tr>\n",
       "      <th>...</th>\n",
       "      <td>...</td>\n",
       "    </tr>\n",
       "    <tr>\n",
       "      <th>2147470770</th>\n",
       "      <td>2832089444</td>\n",
       "    </tr>\n",
       "    <tr>\n",
       "      <th>2147470777</th>\n",
       "      <td>13332685203</td>\n",
       "    </tr>\n",
       "    <tr>\n",
       "      <th>2147481750</th>\n",
       "      <td>55954768</td>\n",
       "    </tr>\n",
       "    <tr>\n",
       "      <th>2147482216</th>\n",
       "      <td>1470594073</td>\n",
       "    </tr>\n",
       "    <tr>\n",
       "      <th>2147482888</th>\n",
       "      <td>428692118</td>\n",
       "    </tr>\n",
       "  </tbody>\n",
       "</table>\n",
       "<p>393569 rows × 1 columns</p>\n",
       "</div>"
      ],
      "text/plain": [
       "            user_time_total\n",
       "user_id                    \n",
       "115               668090043\n",
       "124                  571323\n",
       "2746                 835457\n",
       "5382             2101551456\n",
       "8623              862338736\n",
       "...                     ...\n",
       "2147470770       2832089444\n",
       "2147470777      13332685203\n",
       "2147481750         55954768\n",
       "2147482216       1470594073\n",
       "2147482888        428692118\n",
       "\n",
       "[393569 rows x 1 columns]"
      ]
     },
     "execution_count": 12,
     "metadata": {},
     "output_type": "execute_result"
    }
   ],
   "source": [
    "# максимальное время отклика каждого юзера\n",
    "user_time_total =  df.groupby('user_id')['timestamp'].agg(user_time_total = 'max')\n",
    "user_time_total"
   ]
  },
  {
   "cell_type": "code",
   "execution_count": 13,
   "id": "d16125d8",
   "metadata": {},
   "outputs": [
    {
     "data": {
      "text/html": [
       "<div>\n",
       "<style scoped>\n",
       "    .dataframe tbody tr th:only-of-type {\n",
       "        vertical-align: middle;\n",
       "    }\n",
       "\n",
       "    .dataframe tbody tr th {\n",
       "        vertical-align: top;\n",
       "    }\n",
       "\n",
       "    .dataframe thead th {\n",
       "        text-align: right;\n",
       "    }\n",
       "</style>\n",
       "<table border=\"1\" class=\"dataframe\">\n",
       "  <thead>\n",
       "    <tr style=\"text-align: right;\">\n",
       "      <th></th>\n",
       "      <th>user_id</th>\n",
       "      <th>user_sum</th>\n",
       "      <th>user_mean</th>\n",
       "      <th>user_time_total</th>\n",
       "    </tr>\n",
       "  </thead>\n",
       "  <tbody>\n",
       "    <tr>\n",
       "      <th>0</th>\n",
       "      <td>115</td>\n",
       "      <td>31</td>\n",
       "      <td>0.688889</td>\n",
       "      <td>668090043</td>\n",
       "    </tr>\n",
       "    <tr>\n",
       "      <th>1</th>\n",
       "      <td>124</td>\n",
       "      <td>6</td>\n",
       "      <td>0.206897</td>\n",
       "      <td>571323</td>\n",
       "    </tr>\n",
       "    <tr>\n",
       "      <th>2</th>\n",
       "      <td>2746</td>\n",
       "      <td>11</td>\n",
       "      <td>0.611111</td>\n",
       "      <td>835457</td>\n",
       "    </tr>\n",
       "    <tr>\n",
       "      <th>3</th>\n",
       "      <td>5382</td>\n",
       "      <td>83</td>\n",
       "      <td>0.669355</td>\n",
       "      <td>2101551456</td>\n",
       "    </tr>\n",
       "    <tr>\n",
       "      <th>4</th>\n",
       "      <td>8623</td>\n",
       "      <td>69</td>\n",
       "      <td>0.638889</td>\n",
       "      <td>862338736</td>\n",
       "    </tr>\n",
       "    <tr>\n",
       "      <th>...</th>\n",
       "      <td>...</td>\n",
       "      <td>...</td>\n",
       "      <td>...</td>\n",
       "      <td>...</td>\n",
       "    </tr>\n",
       "    <tr>\n",
       "      <th>393564</th>\n",
       "      <td>2147470770</td>\n",
       "      <td>172</td>\n",
       "      <td>0.764444</td>\n",
       "      <td>2832089444</td>\n",
       "    </tr>\n",
       "    <tr>\n",
       "      <th>393565</th>\n",
       "      <td>2147470777</td>\n",
       "      <td>520</td>\n",
       "      <td>0.692410</td>\n",
       "      <td>13332685203</td>\n",
       "    </tr>\n",
       "    <tr>\n",
       "      <th>393566</th>\n",
       "      <td>2147481750</td>\n",
       "      <td>38</td>\n",
       "      <td>0.775510</td>\n",
       "      <td>55954768</td>\n",
       "    </tr>\n",
       "    <tr>\n",
       "      <th>393567</th>\n",
       "      <td>2147482216</td>\n",
       "      <td>177</td>\n",
       "      <td>0.645985</td>\n",
       "      <td>1470594073</td>\n",
       "    </tr>\n",
       "    <tr>\n",
       "      <th>393568</th>\n",
       "      <td>2147482888</td>\n",
       "      <td>14</td>\n",
       "      <td>0.538462</td>\n",
       "      <td>428692118</td>\n",
       "    </tr>\n",
       "  </tbody>\n",
       "</table>\n",
       "<p>393569 rows × 4 columns</p>\n",
       "</div>"
      ],
      "text/plain": [
       "           user_id  user_sum  user_mean  user_time_total\n",
       "0              115        31   0.688889        668090043\n",
       "1              124         6   0.206897           571323\n",
       "2             2746        11   0.611111           835457\n",
       "3             5382        83   0.669355       2101551456\n",
       "4             8623        69   0.638889        862338736\n",
       "...            ...       ...        ...              ...\n",
       "393564  2147470770       172   0.764444       2832089444\n",
       "393565  2147470777       520   0.692410      13332685203\n",
       "393566  2147481750        38   0.775510         55954768\n",
       "393567  2147482216       177   0.645985       1470594073\n",
       "393568  2147482888        14   0.538462        428692118\n",
       "\n",
       "[393569 rows x 4 columns]"
      ]
     },
     "execution_count": 13,
     "metadata": {},
     "output_type": "execute_result"
    }
   ],
   "source": [
    "# соединяем в один датафрэйм\n",
    "user_df = user_correct.merge(user_time_total, on = 'user_id')\n",
    "user_df"
   ]
  },
  {
   "cell_type": "code",
   "execution_count": 14,
   "id": "d8206d64",
   "metadata": {},
   "outputs": [],
   "source": [
    "# оставляем нужные фичи\n",
    "df = df[['user_id', 'content_id', 'answered_correctly','prior_question_elapsed_time', 'prior_question_had_explanation']]"
   ]
  },
  {
   "cell_type": "code",
   "execution_count": 15,
   "id": "bdc3aab0",
   "metadata": {},
   "outputs": [
    {
     "data": {
      "text/html": [
       "<div>\n",
       "<style scoped>\n",
       "    .dataframe tbody tr th:only-of-type {\n",
       "        vertical-align: middle;\n",
       "    }\n",
       "\n",
       "    .dataframe tbody tr th {\n",
       "        vertical-align: top;\n",
       "    }\n",
       "\n",
       "    .dataframe thead th {\n",
       "        text-align: right;\n",
       "    }\n",
       "</style>\n",
       "<table border=\"1\" class=\"dataframe\">\n",
       "  <thead>\n",
       "    <tr style=\"text-align: right;\">\n",
       "      <th></th>\n",
       "      <th>user_id</th>\n",
       "      <th>content_id</th>\n",
       "      <th>answered_correctly</th>\n",
       "      <th>prior_question_elapsed_time</th>\n",
       "      <th>prior_question_had_explanation</th>\n",
       "      <th>part</th>\n",
       "    </tr>\n",
       "  </thead>\n",
       "  <tbody>\n",
       "    <tr>\n",
       "      <th>0</th>\n",
       "      <td>115</td>\n",
       "      <td>5716</td>\n",
       "      <td>1</td>\n",
       "      <td>37000.0</td>\n",
       "      <td>False</td>\n",
       "      <td>5</td>\n",
       "    </tr>\n",
       "    <tr>\n",
       "      <th>1</th>\n",
       "      <td>115</td>\n",
       "      <td>128</td>\n",
       "      <td>1</td>\n",
       "      <td>55000.0</td>\n",
       "      <td>False</td>\n",
       "      <td>1</td>\n",
       "    </tr>\n",
       "    <tr>\n",
       "      <th>2</th>\n",
       "      <td>115</td>\n",
       "      <td>7860</td>\n",
       "      <td>1</td>\n",
       "      <td>19000.0</td>\n",
       "      <td>False</td>\n",
       "      <td>1</td>\n",
       "    </tr>\n",
       "    <tr>\n",
       "      <th>3</th>\n",
       "      <td>115</td>\n",
       "      <td>7922</td>\n",
       "      <td>1</td>\n",
       "      <td>11000.0</td>\n",
       "      <td>False</td>\n",
       "      <td>1</td>\n",
       "    </tr>\n",
       "    <tr>\n",
       "      <th>4</th>\n",
       "      <td>115</td>\n",
       "      <td>156</td>\n",
       "      <td>1</td>\n",
       "      <td>5000.0</td>\n",
       "      <td>False</td>\n",
       "      <td>1</td>\n",
       "    </tr>\n",
       "    <tr>\n",
       "      <th>...</th>\n",
       "      <td>...</td>\n",
       "      <td>...</td>\n",
       "      <td>...</td>\n",
       "      <td>...</td>\n",
       "      <td>...</td>\n",
       "      <td>...</td>\n",
       "    </tr>\n",
       "    <tr>\n",
       "      <th>98878789</th>\n",
       "      <td>2147482888</td>\n",
       "      <td>3586</td>\n",
       "      <td>1</td>\n",
       "      <td>18000.0</td>\n",
       "      <td>True</td>\n",
       "      <td>5</td>\n",
       "    </tr>\n",
       "    <tr>\n",
       "      <th>98878790</th>\n",
       "      <td>2147482888</td>\n",
       "      <td>6341</td>\n",
       "      <td>1</td>\n",
       "      <td>14000.0</td>\n",
       "      <td>True</td>\n",
       "      <td>5</td>\n",
       "    </tr>\n",
       "    <tr>\n",
       "      <th>98878791</th>\n",
       "      <td>2147482888</td>\n",
       "      <td>4212</td>\n",
       "      <td>1</td>\n",
       "      <td>14000.0</td>\n",
       "      <td>True</td>\n",
       "      <td>5</td>\n",
       "    </tr>\n",
       "    <tr>\n",
       "      <th>98878792</th>\n",
       "      <td>2147482888</td>\n",
       "      <td>6343</td>\n",
       "      <td>0</td>\n",
       "      <td>22000.0</td>\n",
       "      <td>True</td>\n",
       "      <td>5</td>\n",
       "    </tr>\n",
       "    <tr>\n",
       "      <th>98878793</th>\n",
       "      <td>2147482888</td>\n",
       "      <td>7995</td>\n",
       "      <td>1</td>\n",
       "      <td>29000.0</td>\n",
       "      <td>True</td>\n",
       "      <td>5</td>\n",
       "    </tr>\n",
       "  </tbody>\n",
       "</table>\n",
       "<p>98878794 rows × 6 columns</p>\n",
       "</div>"
      ],
      "text/plain": [
       "             user_id  content_id  answered_correctly  \\\n",
       "0                115        5716                   1   \n",
       "1                115         128                   1   \n",
       "2                115        7860                   1   \n",
       "3                115        7922                   1   \n",
       "4                115         156                   1   \n",
       "...              ...         ...                 ...   \n",
       "98878789  2147482888        3586                   1   \n",
       "98878790  2147482888        6341                   1   \n",
       "98878791  2147482888        4212                   1   \n",
       "98878792  2147482888        6343                   0   \n",
       "98878793  2147482888        7995                   1   \n",
       "\n",
       "          prior_question_elapsed_time prior_question_had_explanation  part  \n",
       "0                             37000.0                          False     5  \n",
       "1                             55000.0                          False     1  \n",
       "2                             19000.0                          False     1  \n",
       "3                             11000.0                          False     1  \n",
       "4                              5000.0                          False     1  \n",
       "...                               ...                            ...   ...  \n",
       "98878789                      18000.0                           True     5  \n",
       "98878790                      14000.0                           True     5  \n",
       "98878791                      14000.0                           True     5  \n",
       "98878792                      22000.0                           True     5  \n",
       "98878793                      29000.0                           True     5  \n",
       "\n",
       "[98878794 rows x 6 columns]"
      ]
     },
     "execution_count": 15,
     "metadata": {},
     "output_type": "execute_result"
    }
   ],
   "source": [
    "# соединяем в один датафрэйм\n",
    "df = df.merge(dq[['question_id', 'part']],\n",
    "            left_on ='content_id', right_on = 'question_id', how = 'left')\\\n",
    "            .drop('question_id', axis = 1)\n",
    "df"
   ]
  },
  {
   "cell_type": "code",
   "execution_count": 16,
   "id": "61bf2ec8",
   "metadata": {},
   "outputs": [],
   "source": [
    "# получить среднее значение content_id и среднее значение part\n",
    "question_mean = df.groupby('content_id')['answered_correctly']\\\n",
    "                .agg( question_mean = 'mean', question_sum = 'sum').reset_index()\n",
    "part_mean = df.groupby('part')['answered_correctly'].agg( part_mean = 'mean').reset_index()"
   ]
  },
  {
   "cell_type": "code",
   "execution_count": 17,
   "id": "3155faf5",
   "metadata": {},
   "outputs": [],
   "source": [
    "# соединяем в один датафрэйм\n",
    "train_df = df.merge(question_mean,on ='content_id', how = 'left')\\\n",
    "            .drop('content_id', axis = 1)\n",
    "\n",
    "train_df = train_df.merge(part_mean, on = 'part', how ='left')\\\n",
    "            .drop('part', axis = 1)\n",
    "\n",
    "train_df = train_df.merge(user_df, on = 'user_id', how ='left')\\\n",
    "            .drop('user_id', axis = 1)"
   ]
  },
  {
   "cell_type": "code",
   "execution_count": 19,
   "id": "4e0ed817",
   "metadata": {},
   "outputs": [
    {
     "data": {
      "image/png": "[encoded data removed]",
      "text/plain": [
       "<Figure size 432x288 with 2 Axes>"
      ]
     },
     "metadata": {
      "needs_background": "light"
     },
     "output_type": "display_data"
    }
   ],
   "source": [
    "corrMatrix = train_df.corr()\n",
    "sn.heatmap(corrMatrix, annot=True)\n",
    "plt.show()"
   ]
  },
  {
   "cell_type": "code",
   "execution_count": 20,
   "id": "9d07c5f7",
   "metadata": {},
   "outputs": [
    {
     "data": {
      "text/plain": [
       "answered_correctly             1.000000\n",
       "prior_question_elapsed_time   -0.007900\n",
       "question_mean                  0.367167\n",
       "question_sum                  -0.059375\n",
       "part_mean                      0.098651\n",
       "user_sum                       0.084228\n",
       "user_mean                      0.240346\n",
       "user_time_total                0.040811\n",
       "Name: answered_correctly, dtype: float64"
      ]
     },
     "execution_count": 20,
     "metadata": {},
     "output_type": "execute_result"
    }
   ],
   "source": [
    "corrMatrix['answered_correctly']"
   ]
  },
  {
   "cell_type": "markdown",
   "id": "306d7e4b",
   "metadata": {},
   "source": [
    "#### Определим важность фич"
   ]
  },
  {
   "cell_type": "code",
   "execution_count": 22,
   "id": "29197ce1",
   "metadata": {},
   "outputs": [],
   "source": [
    "import sklearn.feature_selection\n",
    "from sklearn.model_selection import train_test_split"
   ]
  },
  {
   "cell_type": "code",
   "execution_count": 27,
   "id": "018131a8",
   "metadata": {},
   "outputs": [],
   "source": [
    "data = train_df\n",
    "X = data.drop('answered_correctly', axis=1)\n",
    "y = data.answered_correctly\n",
    "\n",
    "X_train, X_test, y_train, y_test = train_test_split(\n",
    "        X, y, test_size=.2, random_state = 0)"
   ]
  },
  {
   "cell_type": "code",
   "execution_count": 30,
   "id": "169d3b36",
   "metadata": {},
   "outputs": [],
   "source": [
    "def select_features(X, X_train, y_train, k):\n",
    "    select = sklearn.feature_selection.SelectKBest(k=k)\n",
    "    selected_features = select.fit(X_train, y_train)\n",
    "    indices_selected = selected_features.get_support(indices = True)\n",
    "    colnames_selected = [X.columns[i] for i in indices_selected]\n",
    "    return colnames_selected"
   ]
  },
  {
   "cell_type": "code",
   "execution_count": 31,
   "id": "2831d272",
   "metadata": {},
   "outputs": [
    {
     "data": {
      "text/plain": [
       "['prior_question_had_explanation', 'question_mean', 'part_mean', 'user_mean']"
      ]
     },
     "execution_count": 31,
     "metadata": {},
     "output_type": "execute_result"
    }
   ],
   "source": [
    "# например первые четыре\n",
    "colnames_selected = select_features(X, X_train, y_train, 4)\n",
    "colnames_selected"
   ]
  },
  {
   "cell_type": "code",
   "execution_count": null,
   "id": "b280b932",
   "metadata": {},
   "outputs": [],
   "source": []
  }
 ],
 "metadata": {
  "kernelspec": {
   "display_name": "Python 3",
   "language": "python",
   "name": "python3"
  },
  "language_info": {
   "codemirror_mode": {
    "name": "ipython",
    "version": 3
   },
   "file_extension": ".py",
   "mimetype": "text/x-python",
   "name": "python",
   "nbconvert_exporter": "python",
   "pygments_lexer": "ipython3",
   "version": "3.8.8"
  }
 },
 "nbformat": 4,
 "nbformat_minor": 5
}
